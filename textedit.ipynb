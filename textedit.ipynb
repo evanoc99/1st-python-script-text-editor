{
 "cells": [
  {
   "cell_type": "markdown",
   "metadata": {},
   "source": [
    "This is a script I produced within my first 8 hours of python"
   ]
  },
  {
   "cell_type": "code",
   "execution_count": 5,
   "metadata": {},
   "outputs": [],
   "source": [
    "script1 = open('script1.txt', mode='r')"
   ]
  },
  {
   "cell_type": "code",
   "execution_count": 2,
   "metadata": {},
   "outputs": [
    {
     "name": "stdout",
     "output_type": "stream",
     "text": [
      "//-------------------------------------\n",
      "//Script Created: Jan 27, 2016\n",
      "//\n",
      "// Description: Generates Off and Invalid States for Direction Exit Signs\n",
      "//              Off - The Upstream and Downstream Inputs are Both OFF \n",
      "//              Invalid - The Upstream and Downstream Inputs are Both ON\n",
      "//-------------------------------------\n",
      "\n",
      "int a = 0;\n",
      "int b = 1;\n",
      "\n",
      "// DESE01\n",
      "PMCS_Sim_PLC.CCCS.Events4.DESE01_CTRL_OFF.write(a);\n",
      "PMCS_Sim_PLC.CCCS.Alarms4.DESE01_CTRL_INVALD.write(a);\n",
      "\n",
      "if (PMCS_Sim_PLC.CCCS.Events4.DESE01_CTRL_DWSTRM.getIntValue()==0 && PMCS_Sim_PLC.CCCS.Events4.DESE01_CTRL_UPSTRM.getIntValue()==0)\n",
      "\tPMCS_Sim_PLC.CCCS.Events4.DESE01_CTRL_OFF.write(b);\n",
      "if (PMCS_Sim_PLC.CCCS.Events4.DESE01_CTRL_DWSTRM.getIntValue()==1 && PMCS_Sim_PLC.CCCS.Events4.DESE01_CTRL_UPSTRM.getIntValue()==1)\n",
      "\tPMCS_Sim_PLC.CCCS.Alarms4.DESE01_CTRL_INVALD.write(b);\n",
      "\n",
      "// DESE02\n",
      "PMCS_Sim_PLC.CCCS.Events4.DESE02_CTRL_OFF.write(a);\n",
      "PMCS_Sim_PLC.CCCS.Alarms4.DESE02_CTRL_INVALD.write(a);\n",
      "\n",
      "if (PMCS_Sim_PLC.CCCS.Events4.DESE02_CTRL_DWSTRM.getIntValue()==0 && PMCS_Sim_PLC.CCCS.Events4.DESE02_CTRL_UPSTRM.getIntValue()==0)\n",
      "\tPMCS_Sim_PLC.CCCS.Events4.DESE02_CTRL_OFF.write(b);\n",
      "if (PMCS_Sim_PLC.CCCS.Events4.DESE02_CTRL_DWSTRM.getIntValue()==1 && PMCS_Sim_PLC.CCCS.Events4.DESE02_CTRL_UPSTRM.getIntValue()==1)\n",
      "\tPMCS_Sim_PLC.CCCS.Alarms4.DESE02_CTRL_INVALD.write(b);\n",
      "\n",
      "// DESE03\n",
      "PMCS_Sim_PLC.CCCS.Events4.DESE03_CTRL_OFF.write(a);\n",
      "PMCS_Sim_PLC.CCCS.Alarms4.DESE03_CTRL_INVALD.write(a);\n",
      "\n",
      "if (PMCS_Sim_PLC.CCCS.Events4.DESE03_CTRL_DWSTRM.getIntValue()==0 && PMCS_Sim_PLC.CCCS.Events4.DESE03_CTRL_UPSTRM.getIntValue()==0)\n",
      "\tPMCS_Sim_PLC.CCCS.Events4.DESE03_CTRL_OFF.write(b);\n",
      "if (PMCS_Sim_PLC.CCCS.Events4.DESE03_CTRL_DWSTRM.getIntValue()==1 && PMCS_Sim_PLC.CCCS.Events4.DESE03_CTRL_UPSTRM.getIntValue()==1)\n",
      "\tPMCS_Sim_PLC.CCCS.Alarms4.DESE03_CTRL_INVALD.write(b);\n",
      "\n",
      "// DESE04\n",
      "PMCS_Sim_PLC.CCCS.Events4.DESE04_CTRL_OFF.write(a);\n",
      "PMCS_Sim_PLC.CCCS.Alarms4.DESE04_CTRL_INVALD.write(a);\n",
      "\n",
      "if (PMCS_Sim_PLC.CCCS.Events4.DESE04_CTRL_DWSTRM.getIntValue()==0 && PMCS_Sim_PLC.CCCS.Events4.DESE04_CTRL_UPSTRM.getIntValue()==0)\n",
      "\tPMCS_Sim_PLC.CCCS.Events4.DESE04_CTRL_OFF.write(b);\n",
      "if (PMCS_Sim_PLC.CCCS.Events4.DESE04_CTRL_DWSTRM.getIntValue()==1 && PMCS_Sim_PLC.CCCS.Events4.DESE04_CTRL_UPSTRM.getIntValue()==1)\n",
      "\tPMCS_Sim_PLC.CCCS.Alarms4.DESE04_CTRL_INVALD.write(b);\n",
      "\n",
      "// DESE05\n",
      "PMCS_Sim_PLC.CCCS.Events4.DESE05_CTRL_OFF.write(a);\n",
      "PMCS_Sim_PLC.CCCS.Alarms4.DESE05_CTRL_INVALD.write(a);\n",
      "\n",
      "if (PMCS_Sim_PLC.CCCS.Events4.DESE05_CTRL_DWSTRM.getIntValue()==0 && PMCS_Sim_PLC.CCCS.Events4.DESE05_CTRL_UPSTRM.getIntValue()==0)\n",
      "\tPMCS_Sim_PLC.CCCS.Events4.DESE05_CTRL_OFF.write(b);\n",
      "if (PMCS_Sim_PLC.CCCS.Events4.DESE05_CTRL_DWSTRM.getIntValue()==1 && PMCS_Sim_PLC.CCCS.Events4.DESE05_CTRL_UPSTRM.getIntValue()==1)\n",
      "\tPMCS_Sim_PLC.CCCS.Alarms4.DESE05_CTRL_INVALD.write(b);\n",
      "\n",
      "// DESE06\n",
      "PMCS_Sim_PLC.CCCS.Events4.DESE06_CTRL_OFF.write(a);\n",
      "PMCS_Sim_PLC.CCCS.Alarms4.DESE06_CTRL_INVALD.write(a);\n",
      "\n",
      "if (PMCS_Sim_PLC.CCCS.Events4.DESE06_CTRL_DWSTRM.getIntValue()==0 && PMCS_Sim_PLC.CCCS.Events4.DESE06_CTRL_UPSTRM.getIntValue()==0)\n",
      "\tPMCS_Sim_PLC.CCCS.Events4.DESE06_CTRL_OFF.write(b);\n",
      "if (PMCS_Sim_PLC.CCCS.Events4.DESE06_CTRL_DWSTRM.getIntValue()==1 && PMCS_Sim_PLC.CCCS.Events4.DESE06_CTRL_UPSTRM.getIntValue()==1)\n",
      "\tPMCS_Sim_PLC.CCCS.Alarms4.DESE06_CTRL_INVALD.write(b);\n",
      "\n",
      "// DESE07\n",
      "PMCS_Sim_PLC.CCCS.Events4.DESE07_CTRL_OFF.write(a);\n",
      "PMCS_Sim_PLC.CCCS.Alarms4.DESE07_CTRL_INVALD.write(a);\n",
      "\n",
      "if (PMCS_Sim_PLC.CCCS.Events4.DESE07_CTRL_DWSTRM.getIntValue()==0 && PMCS_Sim_PLC.CCCS.Events4.DESE07_CTRL_UPSTRM.getIntValue()==0)\n",
      "\tPMCS_Sim_PLC.CCCS.Events4.DESE07_CTRL_OFF.write(b);\n",
      "if (PMCS_Sim_PLC.CCCS.Events4.DESE07_CTRL_DWSTRM.getIntValue()==1 && PMCS_Sim_PLC.CCCS.Events4.DESE07_CTRL_UPSTRM.getIntValue()==1)\n",
      "\tPMCS_Sim_PLC.CCCS.Alarms4.DESE07_CTRL_INVALD.write(b);\n",
      "\n",
      "// DESE08\n",
      "PMCS_Sim_PLC.CCCS.Events4.DESE08_CTRL_OFF.write(a);\n",
      "PMCS_Sim_PLC.CCCS.Alarms4.DESE08_CTRL_INVALD.write(a);\n",
      "\n",
      "if (PMCS_Sim_PLC.CCCS.Events4.DESE08_CTRL_DWSTRM.getIntValue()==0 && PMCS_Sim_PLC.CCCS.Events4.DESE08_CTRL_UPSTRM.getIntValue()==0)\n",
      "\tPMCS_Sim_PLC.CCCS.Events4.DESE08_CTRL_OFF.write(b);\n",
      "if (PMCS_Sim_PLC.CCCS.Events4.DESE08_CTRL_DWSTRM.getIntValue()==1 && PMCS_Sim_PLC.CCCS.Events4.DESE08_CTRL_UPSTRM.getIntValue()==1)\n",
      "\tPMCS_Sim_PLC.CCCS.Alarms4.DESE08_CTRL_INVALD.write(b);\n",
      "\n",
      "// DESE09\n",
      "PMCS_Sim_PLC.CCCS.Events4.DESE09_CTRL_OFF.write(a);\n",
      "PMCS_Sim_PLC.CCCS.Alarms4.DESE09_CTRL_INVALD.write(a);\n",
      "\n",
      "if (PMCS_Sim_PLC.CCCS.Events4.DESE09_CTRL_DWSTRM.getIntValue()==0 && PMCS_Sim_PLC.CCCS.Events4.DESE09_CTRL_UPSTRM.getIntValue()==0)\n",
      "\tPMCS_Sim_PLC.CCCS.Events4.DESE09_CTRL_OFF.write(b);\n",
      "if (PMCS_Sim_PLC.CCCS.Events4.DESE09_CTRL_DWSTRM.getIntValue()==1 && PMCS_Sim_PLC.CCCS.Events4.DESE09_CTRL_UPSTRM.getIntValue()==1)\n",
      "\tPMCS_Sim_PLC.CCCS.Alarms4.DESE09_CTRL_INVALD.write(b);\n",
      "\n",
      "// DESE10\n",
      "PMCS_Sim_PLC.CCCS.Events4.DESE10_CTRL_OFF.write(a);\n",
      "PMCS_Sim_PLC.CCCS.Alarms4.DESE10_CTRL_INVALD.write(a);\n",
      "\n",
      "if (PMCS_Sim_PLC.CCCS.Events4.DESE10_CTRL_DWSTRM.getIntValue()==0 && PMCS_Sim_PLC.CCCS.Events4.DESE10_CTRL_UPSTRM.getIntValue()==0)\n",
      "\tPMCS_Sim_PLC.CCCS.Events4.DESE10_CTRL_OFF.write(b);\n",
      "if (PMCS_Sim_PLC.CCCS.Events4.DESE10_CTRL_DWSTRM.getIntValue()==1 && PMCS_Sim_PLC.CCCS.Events4.DESE10_CTRL_UPSTRM.getIntValue()==1)\n",
      "\tPMCS_Sim_PLC.CCCS.Alarms4.DESE10_CTRL_INVALD.write(b);\n",
      "\n",
      "// DESE11\n",
      "PMCS_Sim_PLC.CCCS.Events4.DESE11_CTRL_OFF.write(a);\n",
      "PMCS_Sim_PLC.CCCS.Alarms4.DESE11_CTRL_INVALD.write(a);\n",
      "\n",
      "if (PMCS_Sim_PLC.CCCS.Events4.DESE11_CTRL_DWSTRM.getIntValue()==0 && PMCS_Sim_PLC.CCCS.Events4.DESE11_CTRL_UPSTRM.getIntValue()==0)\n",
      "\tPMCS_Sim_PLC.CCCS.Events4.DESE11_CTRL_OFF.write(b);\n",
      "if (PMCS_Sim_PLC.CCCS.Events4.DESE11_CTRL_DWSTRM.getIntValue()==1 && PMCS_Sim_PLC.CCCS.Events4.DESE11_CTRL_UPSTRM.getIntValue()==1)\n",
      "\tPMCS_Sim_PLC.CCCS.Alarms4.DESE11_CTRL_INVALD.write(b);\n",
      "\n",
      "// DESE12\n",
      "PMCS_Sim_PLC.CCCS.Events4.DESE12_CTRL_OFF.write(a);\n",
      "PMCS_Sim_PLC.CCCS.Alarms4.DESE12_CTRL_INVALD.write(a);\n",
      "\n",
      "if (PMCS_Sim_PLC.CCCS.Events4.DESE12_CTRL_DWSTRM.getIntValue()==0 && PMCS_Sim_PLC.CCCS.Events4.DESE12_CTRL_UPSTRM.getIntValue()==0)\n",
      "\tPMCS_Sim_PLC.CCCS.Events4.DESE12_CTRL_OFF.write(b);\n",
      "if (PMCS_Sim_PLC.CCCS.Events4.DESE12_CTRL_DWSTRM.getIntValue()==1 && PMCS_Sim_PLC.CCCS.Events4.DESE12_CTRL_UPSTRM.getIntValue()==1)\n",
      "\tPMCS_Sim_PLC.CCCS.Alarms4.DESE12_CTRL_INVALD.write(b);\n",
      "\n",
      "// DESE13\n",
      "PMCS_Sim_PLC.CCCS.Events4.DESE13_CTRL_OFF.write(a);\n",
      "PMCS_Sim_PLC.CCCS.Alarms4.DESE13_CTRL_INVALD.write(a);\n",
      "\n",
      "if (PMCS_Sim_PLC.CCCS.Events4.DESE13_CTRL_DWSTRM.getIntValue()==0 && PMCS_Sim_PLC.CCCS.Events4.DESE13_CTRL_UPSTRM.getIntValue()==0)\n",
      "\tPMCS_Sim_PLC.CCCS.Events4.DESE13_CTRL_OFF.write(b);\n",
      "if (PMCS_Sim_PLC.CCCS.Events4.DESE13_CTRL_DWSTRM.getIntValue()==1 && PMCS_Sim_PLC.CCCS.Events4.DESE13_CTRL_UPSTRM.getIntValue()==1)\n",
      "\tPMCS_Sim_PLC.CCCS.Alarms4.DESE13_CTRL_INVALD.write(b);\n",
      "\n",
      "// DESE14\n",
      "PMCS_Sim_PLC.CCCS.Events4.DESE14_CTRL_OFF.write(a);\n",
      "PMCS_Sim_PLC.CCCS.Alarms4.DESE14_CTRL_INVALD.write(a);\n",
      "\n",
      "if (PMCS_Sim_PLC.CCCS.Events4.DESE14_CTRL_DWSTRM.getIntValue()==0 && PMCS_Sim_PLC.CCCS.Events4.DESE14_CTRL_UPSTRM.getIntValue()==0)\n",
      "\tPMCS_Sim_PLC.CCCS.Events4.DESE14_CTRL_OFF.write(b);\n",
      "if (PMCS_Sim_PLC.CCCS.Events4.DESE14_CTRL_DWSTRM.getIntValue()==1 && PMCS_Sim_PLC.CCCS.Events4.DESE14_CTRL_UPSTRM.getIntValue()==1)\n",
      "\tPMCS_Sim_PLC.CCCS.Alarms4.DESE14_CTRL_INVALD.write(b);\n",
      "\n",
      "// DESE15\n",
      "PMCS_Sim_PLC.CCCS.Events4.DESE15_CTRL_OFF.write(a);\n",
      "PMCS_Sim_PLC.CCCS.Alarms4.DESE15_CTRL_INVALD.write(a);\n",
      "\n",
      "if (PMCS_Sim_PLC.CCCS.Events4.DESE15_CTRL_DWSTRM.getIntValue()==0 && PMCS_Sim_PLC.CCCS.Events4.DESE15_CTRL_UPSTRM.getIntValue()==0)\n",
      "\tPMCS_Sim_PLC.CCCS.Events4.DESE15_CTRL_OFF.write(b);\n",
      "if (PMCS_Sim_PLC.CCCS.Events4.DESE15_CTRL_DWSTRM.getIntValue()==1 && PMCS_Sim_PLC.CCCS.Events4.DESE15_CTRL_UPSTRM.getIntValue()==1)\n",
      "\tPMCS_Sim_PLC.CCCS.Alarms4.DESE15_CTRL_INVALD.write(b);\n",
      "\n",
      "// DESE16\n",
      "PMCS_Sim_PLC.CCCS.Events4.DESE16_CTRL_OFF.write(a);\n",
      "PMCS_Sim_PLC.CCCS.Alarms4.DESE16_CTRL_INVALD.write(a);\n",
      "\n",
      "if (PMCS_Sim_PLC.CCCS.Events4.DESE16_CTRL_DWSTRM.getIntValue()==0 && PMCS_Sim_PLC.CCCS.Events4.DESE16_CTRL_UPSTRM.getIntValue()==0)\n",
      "\tPMCS_Sim_PLC.CCCS.Events4.DESE16_CTRL_OFF.write(b);\n",
      "if (PMCS_Sim_PLC.CCCS.Events4.DESE16_CTRL_DWSTRM.getIntValue()==1 && PMCS_Sim_PLC.CCCS.Events4.DESE16_CTRL_UPSTRM.getIntValue()==1)\n",
      "\tPMCS_Sim_PLC.CCCS.Alarms4.DESE16_CTRL_INVALD.write(b);\n",
      "\n",
      "// DESEREF3\n",
      "PMCS_Sim_PLC.CCCS.Events4.DESEREF3_CTRL_OFF.write(a);\n",
      "PMCS_Sim_PLC.CCCS.Alarms4.DESEREF3_CTRL_INVALD.write(a);\n",
      "\n",
      "if (PMCS_Sim_PLC.CCCS.Events4.DESEREF3_CTRL_DWSTRM.getIntValue()==0 && PMCS_Sim_PLC.CCCS.Events4.DESEREF3_CTRL_UPSTRM.getIntValue()==0)\n",
      "\tPMCS_Sim_PLC.CCCS.Events4.DESEREF3_CTRL_OFF.write(b);\n",
      "if (PMCS_Sim_PLC.CCCS.Events4.DESEREF3_CTRL_DWSTRM.getIntValue()==1 && PMCS_Sim_PLC.CCCS.Events4.DESEREF3_CTRL_UPSTRM.getIntValue()==1)\n",
      "\tPMCS_Sim_PLC.CCCS.Alarms4.DESEREF3_CTRL_INVALD.write(b);\n",
      "\n",
      "// DESW00\n",
      "PMCS_Sim_PLC.CCCS.Events4.DESW00_CTRL_OFF.write(a);\n",
      "PMCS_Sim_PLC.CCCS.Alarms4.DESW00_CTRL_INVALD.write(a);\n",
      "\n",
      "if (PMCS_Sim_PLC.CCCS.Events4.DESW00_CTRL_DWSTRM.getIntValue()==0 && PMCS_Sim_PLC.CCCS.Events4.DESW00_CTRL_UPSTRM.getIntValue()==0)\n",
      "\tPMCS_Sim_PLC.CCCS.Events4.DESW00_CTRL_OFF.write(b);\n",
      "if (PMCS_Sim_PLC.CCCS.Events4.DESW00_CTRL_DWSTRM.getIntValue()==1 && PMCS_Sim_PLC.CCCS.Events4.DESW00_CTRL_UPSTRM.getIntValue()==1)\n",
      "\tPMCS_Sim_PLC.CCCS.Alarms4.DESW00_CTRL_INVALD.write(b);\n",
      "\n",
      "// DESW01\n",
      "PMCS_Sim_PLC.CCCS.Events4.DESW01_CTRL_OFF.write(a);\n",
      "PMCS_Sim_PLC.CCCS.Alarms4.DESW01_CTRL_INVALD.write(a);\n",
      "\n",
      "if (PMCS_Sim_PLC.CCCS.Events4.DESW01_CTRL_DWSTRM.getIntValue()==0 && PMCS_Sim_PLC.CCCS.Events4.DESW01_CTRL_UPSTRM.getIntValue()==0)\n",
      "\tPMCS_Sim_PLC.CCCS.Events4.DESW01_CTRL_OFF.write(b);\n",
      "if (PMCS_Sim_PLC.CCCS.Events4.DESW01_CTRL_DWSTRM.getIntValue()==1 && PMCS_Sim_PLC.CCCS.Events4.DESW01_CTRL_UPSTRM.getIntValue()==1)\n",
      "\tPMCS_Sim_PLC.CCCS.Alarms4.DESW01_CTRL_INVALD.write(b);\n",
      "\n",
      "// DESW02\n",
      "PMCS_Sim_PLC.CCCS.Events4.DESW02_CTRL_OFF.write(a);\n",
      "PMCS_Sim_PLC.CCCS.Alarms4.DESW02_CTRL_INVALD.write(a);\n",
      "\n",
      "if (PMCS_Sim_PLC.CCCS.Events4.DESW02_CTRL_DWSTRM.getIntValue()==0 && PMCS_Sim_PLC.CCCS.Events4.DESW02_CTRL_UPSTRM.getIntValue()==0)\n",
      "\tPMCS_Sim_PLC.CCCS.Events4.DESW02_CTRL_OFF.write(b);\n",
      "if (PMCS_Sim_PLC.CCCS.Events4.DESW02_CTRL_DWSTRM.getIntValue()==1 && PMCS_Sim_PLC.CCCS.Events4.DESW02_CTRL_UPSTRM.getIntValue()==1)\n",
      "\tPMCS_Sim_PLC.CCCS.Alarms4.DESW02_CTRL_INVALD.write(b);\n",
      "\n",
      "// DESW03\n",
      "PMCS_Sim_PLC.CCCS.Events4.DESW03_CTRL_OFF.write(a);\n",
      "PMCS_Sim_PLC.CCCS.Alarms4.DESW03_CTRL_INVALD.write(a);\n",
      "\n",
      "if (PMCS_Sim_PLC.CCCS.Events4.DESW03_CTRL_DWSTRM.getIntValue()==0 && PMCS_Sim_PLC.CCCS.Events4.DESW03_CTRL_UPSTRM.getIntValue()==0)\n",
      "\tPMCS_Sim_PLC.CCCS.Events4.DESW03_CTRL_OFF.write(b);\n",
      "if (PMCS_Sim_PLC.CCCS.Events4.DESW03_CTRL_DWSTRM.getIntValue()==1 && PMCS_Sim_PLC.CCCS.Events4.DESW03_CTRL_UPSTRM.getIntValue()==1)\n",
      "\tPMCS_Sim_PLC.CCCS.Alarms4.DESW03_CTRL_INVALD.write(b);\n",
      "\n",
      "// DESW04\n",
      "PMCS_Sim_PLC.CCCS.Events4.DESW04_CTRL_OFF.write(a);\n",
      "PMCS_Sim_PLC.CCCS.Alarms4.DESW04_CTRL_INVALD.write(a);\n",
      "\n",
      "if (PMCS_Sim_PLC.CCCS.Events4.DESW04_CTRL_DWSTRM.getIntValue()==0 && PMCS_Sim_PLC.CCCS.Events4.DESW04_CTRL_UPSTRM.getIntValue()==0)\n",
      "\tPMCS_Sim_PLC.CCCS.Events4.DESW04_CTRL_OFF.write(b);\n",
      "if (PMCS_Sim_PLC.CCCS.Events4.DESW04_CTRL_DWSTRM.getIntValue()==1 && PMCS_Sim_PLC.CCCS.Events4.DESW04_CTRL_UPSTRM.getIntValue()==1)\n",
      "\tPMCS_Sim_PLC.CCCS.Alarms4.DESW04_CTRL_INVALD.write(b);\n",
      "\n",
      "// DESW05\n",
      "PMCS_Sim_PLC.CCCS.Events4.DESW05_CTRL_OFF.write(a);\n",
      "PMCS_Sim_PLC.CCCS.Alarms4.DESW05_CTRL_INVALD.write(a);\n",
      "\n",
      "if (PMCS_Sim_PLC.CCCS.Events4.DESW05_CTRL_DWSTRM.getIntValue()==0 && PMCS_Sim_PLC.CCCS.Events4.DESW05_CTRL_UPSTRM.getIntValue()==0)\n",
      "\tPMCS_Sim_PLC.CCCS.Events4.DESW05_CTRL_OFF.write(b);\n",
      "if (PMCS_Sim_PLC.CCCS.Events4.DESW05_CTRL_DWSTRM.getIntValue()==1 && PMCS_Sim_PLC.CCCS.Events4.DESW05_CTRL_UPSTRM.getIntValue()==1)\n",
      "\tPMCS_Sim_PLC.CCCS.Alarms4.DESW05_CTRL_INVALD.write(b);\n",
      "\n",
      "// DESW06\n",
      "PMCS_Sim_PLC.CCCS.Events4.DESW06_CTRL_OFF.write(a);\n",
      "PMCS_Sim_PLC.CCCS.Alarms4.DESW06_CTRL_INVALD.write(a);\n",
      "\n",
      "if (PMCS_Sim_PLC.CCCS.Events4.DESW06_CTRL_DWSTRM.getIntValue()==0 && PMCS_Sim_PLC.CCCS.Events4.DESW06_CTRL_UPSTRM.getIntValue()==0)\n",
      "\tPMCS_Sim_PLC.CCCS.Events4.DESW06_CTRL_OFF.write(b);\n",
      "if (PMCS_Sim_PLC.CCCS.Events4.DESW06_CTRL_DWSTRM.getIntValue()==1 && PMCS_Sim_PLC.CCCS.Events4.DESW06_CTRL_UPSTRM.getIntValue()==1)\n",
      "\tPMCS_Sim_PLC.CCCS.Alarms4.DESW06_CTRL_INVALD.write(b);\n"
     ]
    }
   ],
   "source": [
    "print(script1.read())"
   ]
  },
  {
   "cell_type": "code",
   "execution_count": 3,
   "metadata": {},
   "outputs": [
    {
     "name": "stdout",
     "output_type": "stream",
     "text": [
      "False\n"
     ]
    }
   ],
   "source": []
  },
  {
   "cell_type": "code",
   "execution_count": 6,
   "metadata": {},
   "outputs": [],
   "source": [
    "script1.close()"
   ]
  },
  {
   "cell_type": "code",
   "execution_count": 10,
   "metadata": {},
   "outputs": [
    {
     "name": "stdout",
     "output_type": "stream",
     "text": [
      "//-------------------------------------\n",
      "\n",
      "//Script Created: Jan 27, 2016\n",
      "\n",
      "//\n",
      "\n",
      "// Description: Generates Off and Invalid States for Direction Exit Signs\n",
      "\n"
     ]
    }
   ],
   "source": [
    "with open('test.txt') as text:\n",
    "    print(text.readline())\n",
    "    print(text.readline())\n",
    "    print(text.readline())\n",
    "    print(text.readline())"
   ]
  },
  {
   "cell_type": "code",
   "execution_count": 12,
   "metadata": {},
   "outputs": [
    {
     "name": "stdout",
     "output_type": "stream",
     "text": [
      "True\n"
     ]
    }
   ],
   "source": [
    "print(text.closed)"
   ]
  },
  {
   "cell_type": "code",
   "execution_count": 13,
   "metadata": {},
   "outputs": [
    {
     "name": "stdout",
     "output_type": "stream",
     "text": [
      "\tPMCS_Sim_PLC.CCCS.Events4.DESE02_CTRL_OFF.write(b);\n",
      "\n",
      "\tPMCS_Sim_PLC.CCCS.Alarms4.DESE02_CTRL_INVALD.write(b);\n",
      "\n",
      "\tPMCS_Sim_PLC.CCCS.Events4.DESE04_CTRL_OFF.write(b);\n",
      "\n",
      "\tPMCS_Sim_PLC.CCCS.Alarms4.DESE04_CTRL_INVALD.write(b);\n",
      "\n",
      "\tPMCS_Sim_PLC.CCCS.Events4.DESE06_CTRL_OFF.write(b);\n",
      "\n",
      "\tPMCS_Sim_PLC.CCCS.Alarms4.DESE06_CTRL_INVALD.write(b);\n",
      "\n",
      "\tPMCS_Sim_PLC.CCCS.Events4.DESE08_CTRL_OFF.write(b);\n",
      "\n",
      "\tPMCS_Sim_PLC.CCCS.Alarms4.DESE08_CTRL_INVALD.write(b);\n",
      "\n",
      "\tPMCS_Sim_PLC.CCCS.Events4.DESE10_CTRL_OFF.write(b);\n",
      "\n",
      "\tPMCS_Sim_PLC.CCCS.Alarms4.DESE10_CTRL_INVALD.write(b);\n",
      "\n",
      "\tPMCS_Sim_PLC.CCCS.Events4.DESE12_CTRL_OFF.write(b);\n",
      "\n",
      "\tPMCS_Sim_PLC.CCCS.Alarms4.DESE12_CTRL_INVALD.write(b);\n",
      "\n",
      "\tPMCS_Sim_PLC.CCCS.Events4.DESE14_CTRL_OFF.write(b);\n",
      "\n",
      "\tPMCS_Sim_PLC.CCCS.Alarms4.DESE14_CTRL_INVALD.write(b);\n",
      "\n",
      "\tPMCS_Sim_PLC.CCCS.Events4.DESE16_CTRL_OFF.write(b);\n",
      "\n",
      "\tPMCS_Sim_PLC.CCCS.Alarms4.DESE16_CTRL_INVALD.write(b);\n",
      "\n",
      "\tPMCS_Sim_PLC.CCCS.Events4.DESW00_CTRL_OFF.write(b);\n",
      "\n",
      "\tPMCS_Sim_PLC.CCCS.Alarms4.DESW00_CTRL_INVALD.write(b);\n",
      "\n",
      "\tPMCS_Sim_PLC.CCCS.Events4.DESW02_CTRL_OFF.write(b);\n",
      "\n",
      "\tPMCS_Sim_PLC.CCCS.Alarms4.DESW02_CTRL_INVALD.write(b);\n",
      "\n",
      "\tPMCS_Sim_PLC.CCCS.Events4.DESW04_CTRL_OFF.write(b);\n",
      "\n",
      "\tPMCS_Sim_PLC.CCCS.Alarms4.DESW04_CTRL_INVALD.write(b);\n",
      "\n",
      "\tPMCS_Sim_PLC.CCCS.Events4.DESW06_CTRL_OFF.write(b);\n",
      "\n",
      "\tPMCS_Sim_PLC.CCCS.Alarms4.DESW06_CTRL_INVALD.write(b);\n"
     ]
    }
   ],
   "source": [
    "with open('test.txt', mode='r+') as text:\n",
    "    for line in text:\n",
    "        a = text.readline()\n",
    "        if '.write(b);' in a:\n",
    "            print(a)\n"
   ]
  },
  {
   "cell_type": "code",
   "execution_count": 53,
   "metadata": {},
   "outputs": [],
   "source": [
    "match_string = '.write(b);'\n",
    "insert_string = 'else\\n'\n",
    "\n",
    "with open('test2.txt', 'r+') as fd:\n",
    "    contents = fd.readlines()\n",
    "    \n",
    "    if match_string in contents[-1]:  # Handle last line to prevent IndexError\n",
    "        contents.append(insert_string)\n",
    "\n",
    "    for index, line in enumerate(contents):\n",
    "        if match_string in line and insert_string not in contents[index + 1]:\n",
    "            contents.insert(index + 1, insert_string)\n",
    "               \n",
    "    fd.seek(0)\n",
    "    fd.writelines(contents)"
   ]
  },
  {
   "cell_type": "markdown",
   "metadata": {},
   "source": [
    "above works to insert else into the appropriate positions in the script"
   ]
  },
  {
   "cell_type": "code",
   "execution_count": 41,
   "metadata": {},
   "outputs": [
    {
     "name": "stdout",
     "output_type": "stream",
     "text": [
      "['PMCS_Sim_PLC.CCCS.Events4.DESE01_CTRL_OFF.write(a);\\n', 'PMCS_Sim_PLC.CCCS.Alarms4.DESE01_CTRL_INVALD.write(a);\\n', 'PMCS_Sim_PLC.CCCS.Events4.DESE02_CTRL_OFF.write(a);\\n', 'PMCS_Sim_PLC.CCCS.Alarms4.DESE02_CTRL_INVALD.write(a);\\n', 'PMCS_Sim_PLC.CCCS.Events4.DESE03_CTRL_OFF.write(a);\\n', 'PMCS_Sim_PLC.CCCS.Alarms4.DESE03_CTRL_INVALD.write(a);\\n', 'PMCS_Sim_PLC.CCCS.Events4.DESE04_CTRL_OFF.write(a);\\n', 'PMCS_Sim_PLC.CCCS.Alarms4.DESE04_CTRL_INVALD.write(a);\\n', 'PMCS_Sim_PLC.CCCS.Events4.DESE05_CTRL_OFF.write(a);\\n', 'PMCS_Sim_PLC.CCCS.Alarms4.DESE05_CTRL_INVALD.write(a);\\n', 'PMCS_Sim_PLC.CCCS.Events4.DESE06_CTRL_OFF.write(a);\\n', 'PMCS_Sim_PLC.CCCS.Alarms4.DESE06_CTRL_INVALD.write(a);\\n', 'PMCS_Sim_PLC.CCCS.Events4.DESE07_CTRL_OFF.write(a);\\n', 'PMCS_Sim_PLC.CCCS.Alarms4.DESE07_CTRL_INVALD.write(a);\\n', 'PMCS_Sim_PLC.CCCS.Events4.DESE08_CTRL_OFF.write(a);\\n', 'PMCS_Sim_PLC.CCCS.Alarms4.DESE08_CTRL_INVALD.write(a);\\n', 'PMCS_Sim_PLC.CCCS.Events4.DESE09_CTRL_OFF.write(a);\\n', 'PMCS_Sim_PLC.CCCS.Alarms4.DESE09_CTRL_INVALD.write(a);\\n', 'PMCS_Sim_PLC.CCCS.Events4.DESE10_CTRL_OFF.write(a);\\n', 'PMCS_Sim_PLC.CCCS.Alarms4.DESE10_CTRL_INVALD.write(a);\\n', 'PMCS_Sim_PLC.CCCS.Events4.DESE11_CTRL_OFF.write(a);\\n', 'PMCS_Sim_PLC.CCCS.Alarms4.DESE11_CTRL_INVALD.write(a);\\n', 'PMCS_Sim_PLC.CCCS.Events4.DESE12_CTRL_OFF.write(a);\\n', 'PMCS_Sim_PLC.CCCS.Alarms4.DESE12_CTRL_INVALD.write(a);\\n', 'PMCS_Sim_PLC.CCCS.Events4.DESE13_CTRL_OFF.write(a);\\n', 'PMCS_Sim_PLC.CCCS.Alarms4.DESE13_CTRL_INVALD.write(a);\\n', 'PMCS_Sim_PLC.CCCS.Events4.DESE14_CTRL_OFF.write(a);\\n', 'PMCS_Sim_PLC.CCCS.Alarms4.DESE14_CTRL_INVALD.write(a);\\n', 'PMCS_Sim_PLC.CCCS.Events4.DESE15_CTRL_OFF.write(a);\\n', 'PMCS_Sim_PLC.CCCS.Alarms4.DESE15_CTRL_INVALD.write(a);\\n', 'PMCS_Sim_PLC.CCCS.Events4.DESE16_CTRL_OFF.write(a);\\n', 'PMCS_Sim_PLC.CCCS.Alarms4.DESE16_CTRL_INVALD.write(a);\\n', 'PMCS_Sim_PLC.CCCS.Events4.DESEREF3_CTRL_OFF.write(a);\\n', 'PMCS_Sim_PLC.CCCS.Alarms4.DESEREF3_CTRL_INVALD.write(a);\\n', 'PMCS_Sim_PLC.CCCS.Events4.DESW00_CTRL_OFF.write(a);\\n', 'PMCS_Sim_PLC.CCCS.Alarms4.DESW00_CTRL_INVALD.write(a);\\n', 'PMCS_Sim_PLC.CCCS.Events4.DESW01_CTRL_OFF.write(a);\\n', 'PMCS_Sim_PLC.CCCS.Alarms4.DESW01_CTRL_INVALD.write(a);\\n', 'PMCS_Sim_PLC.CCCS.Events4.DESW02_CTRL_OFF.write(a);\\n', 'PMCS_Sim_PLC.CCCS.Alarms4.DESW02_CTRL_INVALD.write(a);\\n', 'PMCS_Sim_PLC.CCCS.Events4.DESW03_CTRL_OFF.write(a);\\n', 'PMCS_Sim_PLC.CCCS.Alarms4.DESW03_CTRL_INVALD.write(a);\\n', 'PMCS_Sim_PLC.CCCS.Events4.DESW04_CTRL_OFF.write(a);\\n', 'PMCS_Sim_PLC.CCCS.Alarms4.DESW04_CTRL_INVALD.write(a);\\n', 'PMCS_Sim_PLC.CCCS.Events4.DESW05_CTRL_OFF.write(a);\\n', 'PMCS_Sim_PLC.CCCS.Alarms4.DESW05_CTRL_INVALD.write(a);\\n', 'PMCS_Sim_PLC.CCCS.Events4.DESW06_CTRL_OFF.write(a);\\n', 'PMCS_Sim_PLC.CCCS.Alarms4.DESW06_CTRL_INVALD.write(a);\\n', 'PMCS_Sim_PLC.CCCS.Events4.DESEREF3_CTRL_OFF.write(a);\\n', 'PMCS_Sim_PLC.CCCS.Alarms4.DESEREF3_CTRL_INVALD.write(a);\\n', 'PMCS_Sim_PLC.CCCS.Events4.DESW00_CTRL_OFF.write(a);\\n', 'PMCS_Sim_PLC.CCCS.Alarms4.DESW00_CTRL_INVALD.write(a);\\n', 'PMCS_Sim_PLC.CCCS.Events4.DESW01_CTRL_OFF.write(a);\\n', 'PMCS_Sim_PLC.CCCS.Alarms4.DESW01_CTRL_INVALD.write(a);\\n', 'PMCS_Sim_PLC.CCCS.Events4.DESW02_CTRL_OFF.write(a);\\n', 'PMCS_Sim_PLC.CCCS.Alarms4.DESW02_CTRL_INVALD.write(a);\\n', 'PMCS_Sim_PLC.CCCS.Events4.DESW03_CTRL_OFF.write(a);\\n', 'PMCS_Sim_PLC.CCCS.Alarms4.DESW03_CTRL_INVALD.write(a);\\n', 'PMCS_Sim_PLC.CCCS.Events4.DESW04_CTRL_OFF.write(a);\\n', 'PMCS_Sim_PLC.CCCS.Alarms4.DESW04_CTRL_INVALD.write(a);\\n', 'PMCS_Sim_PLC.CCCS.Events4.DESW05_CTRL_OFF.write(a);\\n', 'PMCS_Sim_PLC.CCCS.Alarms4.DESW05_CTRL_INVALD.write(a);\\n', 'PMCS_Sim_PLC.CCCS.Events4.DESW06_CTRL_OFF.write(a);\\n', 'PMCS_Sim_PLC.CCCS.Alarms4.DESW06_CTRL_INVALD.write(a);\\n']\n"
     ]
    }
   ],
   "source": [
    "string_store = []\n",
    "match_string = '.write(a);'\n",
    "with open('test.txt', 'r+') as fd:\n",
    "    contents = fd.readlines()\n",
    "\n",
    "    for i, line in enumerate(contents):\n",
    "        if match_string in line:\n",
    "            string_store.append(contents[i])\n",
    "\n",
    "\n",
    "\n",
    "print(string_store)"
   ]
  },
  {
   "cell_type": "markdown",
   "metadata": {},
   "source": [
    "Above solution works. finds all instances of write(a) and strores them in an array\n",
    "below solution does not. investigate why"
   ]
  },
  {
   "cell_type": "code",
   "execution_count": 38,
   "metadata": {},
   "outputs": [
    {
     "name": "stdout",
     "output_type": "stream",
     "text": [
      "['PMCS_Sim_PLC.CCCS.Alarms4.DESE01_CTRL_INVALD.write(a);\\n', 'PMCS_Sim_PLC.CCCS.Events4.DESE02_CTRL_OFF.write(a);\\n', 'PMCS_Sim_PLC.CCCS.Alarms4.DESE03_CTRL_INVALD.write(a);\\n', 'PMCS_Sim_PLC.CCCS.Events4.DESE04_CTRL_OFF.write(a);\\n', 'PMCS_Sim_PLC.CCCS.Alarms4.DESE05_CTRL_INVALD.write(a);\\n', 'PMCS_Sim_PLC.CCCS.Events4.DESE06_CTRL_OFF.write(a);\\n', 'PMCS_Sim_PLC.CCCS.Alarms4.DESE07_CTRL_INVALD.write(a);\\n', 'PMCS_Sim_PLC.CCCS.Events4.DESE08_CTRL_OFF.write(a);\\n', 'PMCS_Sim_PLC.CCCS.Alarms4.DESE09_CTRL_INVALD.write(a);\\n', 'PMCS_Sim_PLC.CCCS.Events4.DESE10_CTRL_OFF.write(a);\\n', 'PMCS_Sim_PLC.CCCS.Alarms4.DESE11_CTRL_INVALD.write(a);\\n', 'PMCS_Sim_PLC.CCCS.Events4.DESE12_CTRL_OFF.write(a);\\n', 'PMCS_Sim_PLC.CCCS.Alarms4.DESE13_CTRL_INVALD.write(a);\\n', 'PMCS_Sim_PLC.CCCS.Events4.DESE14_CTRL_OFF.write(a);\\n', 'PMCS_Sim_PLC.CCCS.Alarms4.DESE15_CTRL_INVALD.write(a);\\n', 'PMCS_Sim_PLC.CCCS.Events4.DESE16_CTRL_OFF.write(a);\\n', 'PMCS_Sim_PLC.CCCS.Events4.DESEREF3_CTRL_OFF.write(a);\\n', 'PMCS_Sim_PLC.CCCS.Alarms4.DESW00_CTRL_INVALD.write(a);\\n', 'PMCS_Sim_PLC.CCCS.Events4.DESW01_CTRL_OFF.write(a);\\n', 'PMCS_Sim_PLC.CCCS.Alarms4.DESW02_CTRL_INVALD.write(a);\\n', 'PMCS_Sim_PLC.CCCS.Events4.DESW03_CTRL_OFF.write(a);\\n', 'PMCS_Sim_PLC.CCCS.Alarms4.DESW04_CTRL_INVALD.write(a);\\n', 'PMCS_Sim_PLC.CCCS.Events4.DESW05_CTRL_OFF.write(a);\\n', 'PMCS_Sim_PLC.CCCS.Alarms4.DESW06_CTRL_INVALD.write(a);\\n', 'PMCS_Sim_PLC.CCCS.Alarms4.DESEREF3_CTRL_INVALD.write(a);\\n', 'PMCS_Sim_PLC.CCCS.Events4.DESW00_CTRL_OFF.write(a);\\n', 'PMCS_Sim_PLC.CCCS.Alarms4.DESW01_CTRL_INVALD.write(a);\\n', 'PMCS_Sim_PLC.CCCS.Events4.DESW02_CTRL_OFF.write(a);\\n', 'PMCS_Sim_PLC.CCCS.Alarms4.DESW03_CTRL_INVALD.write(a);\\n', 'PMCS_Sim_PLC.CCCS.Events4.DESW04_CTRL_OFF.write(a);\\n', 'PMCS_Sim_PLC.CCCS.Alarms4.DESW05_CTRL_INVALD.write(a);\\n', 'PMCS_Sim_PLC.CCCS.Events4.DESW06_CTRL_OFF.write(a);\\n']\n"
     ]
    }
   ],
   "source": [
    "string_store = []\n",
    "with open('test.txt', mode='r') as text:\n",
    "    for line in text:\n",
    "        a = text.readline()\n",
    "        if '.write(a);' in a:\n",
    "            string_store.append(a)\n",
    "print(string_store)"
   ]
  },
  {
   "cell_type": "code",
   "execution_count": 54,
   "metadata": {},
   "outputs": [],
   "source": [
    "match_string = '.write(b);'\n",
    "insert_string = 'else\\n'\n",
    "\n",
    "with open('test1.txt', 'r+') as fd: #writes else statement into text file\n",
    "    contents = fd.readlines()\n",
    "    \n",
    "    if match_string in contents[-1]:  # Handle last line to prevent IndexError\n",
    "        contents.append(insert_string)\n",
    "\n",
    "    for index, line in enumerate(contents):\n",
    "        if match_string in line and insert_string not in contents[index + 1]:\n",
    "            contents.insert(index + 1, insert_string)\n",
    "               \n",
    "    fd.seek(0)\n",
    "    fd.writelines(contents)\n",
    "\n",
    "string_store = []\n",
    "match_string = '.write(a);'\n",
    "with open('test1.txt', 'r+') as fd: #finds and stores all write(a) commands into an array\n",
    "    contents = fd.readlines()\n",
    "\n",
    "    for i, line in enumerate(contents):\n",
    "        if match_string in line:\n",
    "            string_store.append(contents[i])\n",
    "\n",
    "            \n",
    "with open('test1.txt', 'w') as fd: #deletes all instances of write(a)\n",
    "\n",
    "    for i, line in enumerate(contents):\n",
    "        if match_string not in line:\n",
    "            fd.write(line)\n",
    "        \n",
    "\n",
    "match_string = 'else'\n",
    "c = 0\n",
    "with open('test1.txt', 'r+') as fd: #inserts all instances of 'write(a)' into the file in the appropriate position\n",
    "    contents = fd.readlines()\n",
    "    \n",
    "    if match_string in contents[-1]:  # Handle last line to prevent IndexError\n",
    "        contents.append(string_store[-1])\n",
    "\n",
    "    for index, line in enumerate(contents):\n",
    "        if match_string in line and string_store[c] not in contents[index + 1]:\n",
    "            contents.insert(index + 1, string_store[c])\n",
    "            c += 1\n",
    "               \n",
    "    fd.seek(0)\n",
    "    fd.writelines(contents)"
   ]
  },
  {
   "cell_type": "markdown",
   "metadata": {},
   "source": [
    "Above is the first working version"
   ]
  },
  {
   "cell_type": "code",
   "execution_count": 17,
   "metadata": {},
   "outputs": [],
   "source": [
    "#  A poorly written code file that first changes a value and then changes the value back if a condition is met, instead of using an else statement\n",
    "# This script is written in order to correct the recurring nature of this issue by taking and modifying the text file to use else statments\n",
    "# The changes made can be easily observed by opening script1.txt and comparing it with that of newtext.txt\n",
    "\n",
    "with open('script1.txt', 'r') as fd: #opens original document and reads lines\n",
    "    contents = fd.readlines()\n",
    "\n",
    "\n",
    "with open('newtext.txt', 'w') as n: #creates new document that will be written to\n",
    "    match_string = '.write(a);' \n",
    "    string_store = []\n",
    "    \n",
    "    for i, line in enumerate(contents): #finds all instances of '.write(a);' and stores them in a list\n",
    "            if match_string in line:\n",
    "                string_store.append(contents[i] + '\\n')              \n",
    "    \n",
    "    match_string = '.write(b);'\n",
    "    insert_string = 'else\\n'\n",
    "\n",
    "    if match_string in contents[-1]:   #checks the last entry in the list for a match to add in the stored write command\n",
    "        contents.append(insert_string)\n",
    "        contents.append(string_store[-1])\n",
    "\n",
    "    c = 0\n",
    "    for index, line in enumerate(contents): #itterates through the list looking to insert the else statement and the appropriate write(a) line\n",
    "        if match_string in line and string_store[c] not in contents[index + 2]:\n",
    "            contents.insert(index + 1, insert_string)\n",
    "            contents.insert(index + 2, string_store[c])\n",
    "            c += 1\n",
    "\n",
    "    match_string = '.write(a);'     #writes to the new file avoiding the old instances of write(a). can think of this as deleting the the old write(a) commands. \n",
    "    for i, line in enumerate(contents):\n",
    "        if match_string not in line or 'else' in contents[i - 1]:\n",
    "            n.write(line)"
   ]
  },
  {
   "cell_type": "markdown",
   "metadata": {},
   "source": [
    "Above is a new version of the text edit script produced after gaining a better understanding of internal functions in python"
   ]
  },
  {
   "cell_type": "code",
   "execution_count": 8,
   "metadata": {},
   "outputs": [],
   "source": [
    "with open('script1.txt', 'r') as fd:\n",
    "    contents = fd.readlines()\n",
    "\n",
    "match_string = '.write(a);' \n",
    "string_store = []\n",
    "i = 0\n",
    "while i < len(contents):\n",
    "            if match_string in contents[i]:\n",
    "                string_store.append(contents[i] + '\\n')\n",
    "                del contents[i]\n",
    "                i = i - 1\n",
    "            else:\n",
    "                i = i + 1\n",
    "\n",
    "with open('test2.txt', 'w') as n:\n",
    "    n.writelines(contents)\n"
   ]
  },
  {
   "cell_type": "markdown",
   "metadata": {},
   "source": [
    "tried to combine the deleting and storing of lines however this creates issues with the indexing since the length of contents doesnt change. Therefore the below code will not run as it does not recognize that the size of the list has changed and therefore an index of -1 throws an index error. Tried to read up about resizing however this is computationally inefficient and a real pain to do in python. not worth the effort"
   ]
  },
  {
   "cell_type": "code",
   "execution_count": 15,
   "metadata": {},
   "outputs": [
    {
     "name": "stdout",
     "output_type": "stream",
     "text": [
      "226\n",
      "226\n"
     ]
    },
    {
     "ename": "IndexError",
     "evalue": "list index out of range",
     "output_type": "error",
     "traceback": [
      "\u001b[1;31m---------------------------------------------------------------------------\u001b[0m",
      "\u001b[1;31mIndexError\u001b[0m                                Traceback (most recent call last)",
      "\u001b[1;32mc:\\Users\\evanl\\OneDrive\\code stuff\\1st text edit\\textedit.ipynb Cell 18\u001b[0m in \u001b[0;36m<cell line: 5>\u001b[1;34m()\u001b[0m\n\u001b[0;32m     <a href='vscode-notebook-cell:/c%3A/Users/evanl/OneDrive/code%20stuff/1st%20text%20edit/textedit.ipynb#X22sZmlsZQ%3D%3D?line=21'>22</a>\u001b[0m \u001b[39mif\u001b[39;00m match_string \u001b[39min\u001b[39;00m contents[\u001b[39m-\u001b[39m\u001b[39m1\u001b[39m]:\n\u001b[0;32m     <a href='vscode-notebook-cell:/c%3A/Users/evanl/OneDrive/code%20stuff/1st%20text%20edit/textedit.ipynb#X22sZmlsZQ%3D%3D?line=22'>23</a>\u001b[0m     contents\u001b[39m.\u001b[39mappend(insert_string)\n\u001b[1;32m---> <a href='vscode-notebook-cell:/c%3A/Users/evanl/OneDrive/code%20stuff/1st%20text%20edit/textedit.ipynb#X22sZmlsZQ%3D%3D?line=23'>24</a>\u001b[0m     contents\u001b[39m.\u001b[39mappend(string_store[\u001b[39m-\u001b[39;49m\u001b[39m1\u001b[39;49m])\n\u001b[0;32m     <a href='vscode-notebook-cell:/c%3A/Users/evanl/OneDrive/code%20stuff/1st%20text%20edit/textedit.ipynb#X22sZmlsZQ%3D%3D?line=25'>26</a>\u001b[0m c \u001b[39m=\u001b[39m \u001b[39m0\u001b[39m\n\u001b[0;32m     <a href='vscode-notebook-cell:/c%3A/Users/evanl/OneDrive/code%20stuff/1st%20text%20edit/textedit.ipynb#X22sZmlsZQ%3D%3D?line=26'>27</a>\u001b[0m \u001b[39mfor\u001b[39;00m index, line \u001b[39min\u001b[39;00m \u001b[39menumerate\u001b[39m(contents):\n",
      "\u001b[1;31mIndexError\u001b[0m: list index out of range"
     ]
    }
   ],
   "source": [
    "\n",
    "\n",
    "with open('script1.txt', 'r') as fd:\n",
    "    contents = fd.readlines()\n",
    "\n",
    "\n",
    "with open('newtext.txt', 'w') as n:\n",
    "    match_string = '.write(a);' \n",
    "    string_store = []\n",
    "    print(len(contents))\n",
    "    \n",
    "    while i < len(contents):\n",
    "            if match_string in contents[i]:\n",
    "                string_store.append(contents[i] + '\\n')\n",
    "                del contents[i]\n",
    "                i = i - 1\n",
    "            else:\n",
    "                i = i + 1          \n",
    "    \n",
    "    print(len(contents))\n",
    "    match_string = '.write(b);'\n",
    "    insert_string = 'else\\n'\n",
    "\n",
    "    if match_string in contents[-1]:\n",
    "        contents.append(insert_string)\n",
    "        contents.append(string_store[-1])\n",
    "\n",
    "    c = 0\n",
    "    for index, line in enumerate(contents):\n",
    "        if match_string in line and string_store[c] not in contents[index + 2]:\n",
    "            contents.insert(index + 1, insert_string)\n",
    "            contents.insert(index + 2, string_store[c])\n",
    "            c += 1\n",
    "    \n",
    "    n.writelines(contents)"
   ]
  }
 ],
 "metadata": {
  "kernelspec": {
   "display_name": "Python 3.9.12 ('base')",
   "language": "python",
   "name": "python3"
  },
  "language_info": {
   "codemirror_mode": {
    "name": "ipython",
    "version": 3
   },
   "file_extension": ".py",
   "mimetype": "text/x-python",
   "name": "python",
   "nbconvert_exporter": "python",
   "pygments_lexer": "ipython3",
   "version": "3.9.12"
  },
  "orig_nbformat": 4,
  "vscode": {
   "interpreter": {
    "hash": "dc3681cc3166be3070498baa710222430d964431da19e27e2360a287cd8fbf16"
   }
  }
 },
 "nbformat": 4,
 "nbformat_minor": 2
}
